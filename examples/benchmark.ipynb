{
 "cells": [
  {
   "cell_type": "markdown",
   "metadata": {},
   "source": [
    "# Simulation"
   ]
  },
  {
   "cell_type": "code",
   "execution_count": null,
   "metadata": {},
   "outputs": [],
   "source": [
    "import subprocess\n",
    "import matplotlib.pyplot as plt\n",
    "import os\n",
    "\n",
    "def run_simulation(totalTime, range, dataStart, nodes, sinks, speed, scheduler):\n",
    "    subprocess.call(f'../../../waf --run \"weep-wifi-sim \\\n",
    "            --TotalTime={totalTime} \\\n",
    "            --Range={range} \\\n",
    "            --DataStart={dataStart} \\\n",
    "            --Nodes={nodes} \\\n",
    "            --Sinks={sinks} \\\n",
    "            --Speed={speed} \\\n",
    "            --Scheduler={scheduler}\" \\\n",
    "        --cwd contrib/weep/outputs/'\n",
    "    , env={**os.environ, 'NS_LOG': 'AodvWeepScheduler'}, shell=True, stdout=subprocess.DEVNULL)"
   ]
  },
  {
   "cell_type": "code",
   "execution_count": null,
   "metadata": {},
   "outputs": [],
   "source": [
    "throughputs = []\n",
    "pdrs = []\n",
    "waiting_times = []\n",
    "average_delays = []\n",
    "energies_consumed = []"
   ]
  },
  {
   "cell_type": "code",
   "execution_count": null,
   "metadata": {},
   "outputs": [],
   "source": [
    "totalTime = 1000.0\n",
    "range = 10.0\n",
    "dataStart = 1.0\n",
    "sinks = 2\n",
    "speed = 5\n",
    "node_values = [20, 40, 60, 80, 100]\n",
    "scheduler = \"ns3::weep::AodvWeepScheduler\"\n",
    "\n",
    "throughputs, pdrs, waiting_times, average_delays, energies_consumed = [], [], [], [], []\n",
    "for nodes in node_values:\n",
    "    run_simulation(totalTime, range, dataStart, nodes, nodes - 1, speed, scheduler)\n",
    "    line = open('../outputs/weep.csv').readlines()[-1].split(', ')\n",
    "    nodes, throughput, pdr, waiting_time, average_delay, energy_consumed = line\n",
    "    throughputs.append(float(throughput))\n",
    "    pdrs.append(float(pdr))\n",
    "    waiting_times.append(float(waiting_time))\n",
    "    average_delays.append(float(average_delay))\n",
    "    energies_consumed.append(float(energy_consumed))"
   ]
  },
  {
   "cell_type": "code",
   "execution_count": null,
   "metadata": {},
   "outputs": [],
   "source": [
    "plt.plot(node_values, throughputs)\n",
    "plt.xlabel(\"No. of nodes\")\n",
    "plt.ylabel(\"Throughput (Kbps)\")\n",
    "plt.legend()\n",
    "plt.show()\n",
    "plt.close()"
   ]
  },
  {
   "cell_type": "code",
   "execution_count": null,
   "metadata": {},
   "outputs": [],
   "source": [
    "plt.plot(node_values, pdrs)\n",
    "plt.xlabel(\"No. of nodes\")\n",
    "plt.ylabel(\"Packet Delivery Ratio\")\n",
    "plt.legend()\n",
    "plt.show()\n",
    "plt.close()"
   ]
  },
  {
   "cell_type": "code",
   "execution_count": null,
   "metadata": {},
   "outputs": [],
   "source": [
    "plt.plot(node_values, waiting_times)\n",
    "plt.xlabel(\"No. of nodes\")\n",
    "plt.ylabel(\"Per Packet Per Router Waiting Time (s)\")\n",
    "plt.legend()\n",
    "plt.show()\n",
    "plt.close()"
   ]
  },
  {
   "cell_type": "code",
   "execution_count": null,
   "metadata": {},
   "outputs": [],
   "source": [
    "plt.plot(node_values, average_delays)\n",
    "plt.xlabel(\"No. of nodes\")\n",
    "plt.ylabel(\"Average End to End Delay (ms)\")\n",
    "plt.legend()\n",
    "plt.show()\n",
    "plt.close()"
   ]
  },
  {
   "cell_type": "code",
   "execution_count": null,
   "metadata": {},
   "outputs": [],
   "source": [
    "plt.plot(node_values, energies_consumed)\n",
    "plt.xlabel(\"No. of nodes\")\n",
    "plt.ylabel(\"Average Energy Consumed (J)\")\n",
    "plt.legend()\n",
    "plt.show()\n",
    "plt.close()"
   ]
  }
 ],
 "metadata": {
  "interpreter": {
   "hash": "e7370f93d1d0cde622a1f8e1c04877d8463912d04d973331ad4851f04de6915a"
  },
  "kernelspec": {
   "display_name": "Python 3.9.7 64-bit",
   "language": "python",
   "name": "python3"
  },
  "language_info": {
   "codemirror_mode": {
    "name": "ipython",
    "version": 3
   },
   "file_extension": ".py",
   "mimetype": "text/x-python",
   "name": "python",
   "nbconvert_exporter": "python",
   "pygments_lexer": "ipython3",
   "version": "3.9.7"
  },
  "orig_nbformat": 4
 },
 "nbformat": 4,
 "nbformat_minor": 2
}
